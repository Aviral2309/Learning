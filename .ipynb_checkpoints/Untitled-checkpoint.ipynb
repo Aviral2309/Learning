{
 "cells": [
  {
   "cell_type": "code",
   "execution_count": null,
   "id": "046af1a2-c2e3-4643-a98c-8836ee9a81bd",
   "metadata": {},
   "outputs": [],
   "source": [
    "import pandas as pd\n",
    "import numpy as np"
   ]
  },
  {
   "cell_type": "code",
   "execution_count": null,
   "id": "f9a49923-7190-439e-9fe1-c951a84ca660",
   "metadata": {},
   "outputs": [],
   "source": [
    "# pandas series - like a table column - 1 dimensional array holding any data type"
   ]
  },
  {
   "cell_type": "code",
   "execution_count": null,
   "id": "b4fdc5e4-8d28-45b4-ab57-e8dbfa141e49",
   "metadata": {},
   "outputs": [],
   "source": [
    "my_series = [5,9,12,27]\n",
    "my_var = pd.series(my_series)\n",
    "my_var"
   ]
  },
  {
   "cell_type": "code",
   "execution_count": null,
   "id": "cf213ee4-c7f4-434b-9357-b28f9ae1eb81",
   "metadata": {},
   "outputs": [],
   "source": []
  }
 ],
 "metadata": {
  "kernelspec": {
   "display_name": "Python 3 (ipykernel)",
   "language": "python",
   "name": "python3"
  },
  "language_info": {
   "codemirror_mode": {
    "name": "ipython",
    "version": 3
   },
   "file_extension": ".py",
   "mimetype": "text/x-python",
   "name": "python",
   "nbconvert_exporter": "python",
   "pygments_lexer": "ipython3",
   "version": "3.12.4"
  }
 },
 "nbformat": 4,
 "nbformat_minor": 5
}
